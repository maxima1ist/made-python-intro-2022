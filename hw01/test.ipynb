{
 "cells": [
  {
   "cell_type": "code",
   "execution_count": 1,
   "metadata": {},
   "outputs": [],
   "source": [
    "import utils as my_math"
   ]
  },
  {
   "cell_type": "code",
   "execution_count": 2,
   "metadata": {},
   "outputs": [],
   "source": [
    "try:\n",
    "    my_math.solve_quadratic(0, 0, 0) == None\n",
    "    assert False\n",
    "except:\n",
    "    pass\n",
    "\n",
    "assert my_math.solve_quadratic(1, 2, 3) == None\n",
    "\n",
    "\n",
    "answer = my_math.solve_quadratic(1, 1, 0.25)\n",
    "assert len(answer) == 1\n",
    "assert my_math.is_close(answer[0], -0.5)\n",
    "\n",
    "answer = my_math.solve_quadratic(3, 10, 5)\n",
    "assert len(answer) == 2\n",
    "assert my_math.is_close(answer[0], -2.72076, 1e-5), my_math.is_close(answer[0], -0.61257, 1e-5)"
   ]
  },
  {
   "cell_type": "code",
   "execution_count": 3,
   "metadata": {},
   "outputs": [],
   "source": [
    "assert my_math.split_by_even([1, 2, 3, 4, 5, 6]) == ([2, 4, 6], [1, 3, 5])\n",
    "assert my_math.split_by_even([]) == ([], [])\n",
    "arr = [value for value in range(-10000, 10000)]\n",
    "assert my_math.split_by_even(arr) == ([value for value in arr if value % 2 == 0],\n",
    "                                   [value for value in arr if value % 2 != 0])"
   ]
  }
 ],
 "metadata": {
  "kernelspec": {
   "display_name": "Python 3.10.4 ('py3ve': venv)",
   "language": "python",
   "name": "python3"
  },
  "language_info": {
   "codemirror_mode": {
    "name": "ipython",
    "version": 3
   },
   "file_extension": ".py",
   "mimetype": "text/x-python",
   "name": "python",
   "nbconvert_exporter": "python",
   "pygments_lexer": "ipython3",
   "version": "3.10.4"
  },
  "orig_nbformat": 4,
  "vscode": {
   "interpreter": {
    "hash": "d1f73c54f5cca8cf79af52ae57d216747e711f22d19392e1f6b8224d4f17432b"
   }
  }
 },
 "nbformat": 4,
 "nbformat_minor": 2
}
